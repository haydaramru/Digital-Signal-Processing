{
  "nbformat": 4,
  "nbformat_minor": 0,
  "metadata": {
    "colab": {
      "provenance": [],
      "include_colab_link": true
    },
    "kernelspec": {
      "name": "python3",
      "display_name": "Python 3"
    },
    "language_info": {
      "name": "python"
    }
  },
  "cells": [
    {
      "cell_type": "markdown",
      "metadata": {
        "id": "view-in-github",
        "colab_type": "text"
      },
      "source": [
        "<a href=\"https://colab.research.google.com/github/haydaramru/Digital-Signal-Processing/blob/main/Kuliah_FIR_filter.ipynb\" target=\"_parent\"><img src=\"https://colab.research.google.com/assets/colab-badge.svg\" alt=\"Open In Colab\"/></a>"
      ]
    },
    {
      "cell_type": "code",
      "execution_count": null,
      "metadata": {
        "id": "qf5Zoma7RLRA"
      },
      "outputs": [],
      "source": [
        "import numpy as np\n",
        "import scipy.signal as signal\n",
        "import matplotlib.pyplot as plt\n",
        "from matplotlib import style"
      ]
    },
    {
      "cell_type": "code",
      "source": [
        "# signal with samping rate of 2000Hz – frek_max = 1000Hz\n",
        "# Nyquist's theorem requires sampling freq > 2x the signal's max freq\n",
        "\n",
        "t = np.linspace(0,1.0,2001)\n",
        "sig_5hz =\n",
        "sig_50hz =\n",
        "sig_250hz =\n",
        "\n",
        "sig_5hz_50hz_250hz = sig_5hz + sig_50hz  + sig_250hz"
      ],
      "metadata": {
        "id": "SNxDDJBiSJ2q"
      },
      "execution_count": null,
      "outputs": []
    },
    {
      "cell_type": "code",
      "source": [
        "plt.plot(sig_5hz)\n",
        "plt.show"
      ],
      "metadata": {
        "id": "kZ5xA6aduASv"
      },
      "execution_count": null,
      "outputs": []
    },
    {
      "cell_type": "code",
      "source": [
        "plt.plot(sig_50hz)\n",
        "plt.show"
      ],
      "metadata": {
        "id": "AVAAJlwnV65c"
      },
      "execution_count": null,
      "outputs": []
    },
    {
      "cell_type": "code",
      "source": [
        "plt.plot(sig_250hz)\n",
        "plt.show"
      ],
      "metadata": {
        "id": "-dTOGtv4TEz9"
      },
      "execution_count": null,
      "outputs": []
    },
    {
      "cell_type": "code",
      "source": [
        "plt.plot(sig_5hz_50hz_250hz)\n",
        "plt.show"
      ],
      "metadata": {
        "id": "4wJpGcF-TJOF"
      },
      "execution_count": null,
      "outputs": []
    },
    {
      "cell_type": "code",
      "source": [
        "# these are parameters to make the filters\n",
        "numtaps = 101\n",
        "lpf_cutoff = 7      # the lowpass filter with fc= 7 Hz\n",
        "hpf_cutoff = 100    # the highpass filter with fc= 100 Hz\n",
        "bp_cutoff1 = 40     # the bandpass filter with fc= 40 Hz - 100 Hz\n",
        "bp_cutoff2 = 100"
      ],
      "metadata": {
        "id": "1WbxH1xhT7Ce"
      },
      "execution_count": null,
      "outputs": []
    },
    {
      "cell_type": "code",
      "source": [
        "# calculate the lowpass coeffs using window method\n",
        "lowpass_coef =\n",
        "plt.plot(lowpass_coef)\n",
        "plt.show()"
      ],
      "metadata": {
        "id": "htt8hzP1U_fA"
      },
      "execution_count": null,
      "outputs": []
    },
    {
      "cell_type": "code",
      "source": [
        "# convolve the signal with the lowpass coeffs\n",
        "lowpass_output =\n",
        "plt.plot(lowpass_output)\n",
        "plt.show()"
      ],
      "metadata": {
        "id": "NBlFRrDGVNpg"
      },
      "execution_count": null,
      "outputs": []
    },
    {
      "cell_type": "code",
      "source": [
        "# calculate the highpass coeffs using window method\n",
        "highpass_coef =\n",
        "plt.plot(highpass_coef)\n",
        "plt.show()"
      ],
      "metadata": {
        "id": "n9uGq1m5VkF-"
      },
      "execution_count": null,
      "outputs": []
    },
    {
      "cell_type": "code",
      "source": [
        "# convolve the signal with highpass coeffs\n",
        "highpass_output =\n",
        "plt.plot(highpass_output)\n",
        "plt.show()"
      ],
      "metadata": {
        "id": "mDT7uAGkVyi_"
      },
      "execution_count": null,
      "outputs": []
    },
    {
      "cell_type": "code",
      "source": [
        "# calculate the bandpass coeffs using window method\n",
        "bandpass_coef =\n",
        "plt.plot(bandpass_coef)\n",
        "plt.show()"
      ],
      "metadata": {
        "id": "QTLYrhVzV8pe"
      },
      "execution_count": null,
      "outputs": []
    },
    {
      "cell_type": "code",
      "source": [
        "# convolve the signal with bandpass coeffs\n",
        "bandpass_output =\n",
        "plt.plot(bandpass_output)\n",
        "plt.show()"
      ],
      "metadata": {
        "id": "qX0HEnI3WLNl"
      },
      "execution_count": null,
      "outputs": []
    },
    {
      "cell_type": "code",
      "source": [
        "# plot all the results with the original signals\n",
        "style.use('dark_background')\n",
        "f,plt_arr = plt.subplots(7,sharex=True)\n",
        "f.suptitle('FIR Filter Design')\n",
        "\n",
        "plt_arr[0].plot(sig_5hz, color='yellow')\n",
        "plt_arr[0].set_title('5Hz Signal', color='yellow')\n",
        "plt_arr[1].plot(sig_50hz, color='yellow')\n",
        "plt_arr[1].set_title('50Hz Signal', color='yellow')\n",
        "plt_arr[2].plot(sig_250hz, color='yellow')\n",
        "plt_arr[2].set_title('250Hz Signal', color='yellow')\n",
        "plt_arr[3].plot(sig_5hz_50hz_250hz , color='yellow')\n",
        "plt_arr[3].set_title('Combined 5hz, 50hz, 250hz Signals', color='yellow')\n",
        "plt_arr[4].plot(lowpass_output, color='cyan')\n",
        "plt_arr[4].set_title('Output from 7Hz LP Filter', color='cyan')\n",
        "plt_arr[5].plot(highpass_output, color='cyan')\n",
        "plt_arr[5].set_title('Output from 100Hz HP Filter', color='cyan')\n",
        "plt_arr[6].plot(bandpass_output, color='cyan')\n",
        "plt_arr[6].set_title('Output from 40-100Hz BP Filter', color='cyan')\n",
        "\n",
        "plt.show()"
      ],
      "metadata": {
        "id": "KIaZC8tSWT5W"
      },
      "execution_count": null,
      "outputs": []
    },
    {
      "cell_type": "code",
      "source": [
        "style.use('dark_background')\n",
        "f,plt_arr = plt.subplots(4,sharex=True)\n",
        "f.suptitle('FIR Filter Design')\n",
        "\n",
        "plt_arr[0].plot(sig_5hz_50hz_250hz , color='yellow')\n",
        "plt_arr[0].set_title('Combined 5hz, 50hz, 250hz Signals', color='yellow')\n",
        "plt_arr[1].plot(lowpass_output, color='cyan')\n",
        "plt_arr[1].set_title('Output from 7Hz LP Filter', color='cyan')\n",
        "plt_arr[2].plot(highpass_output, color='cyan')\n",
        "plt_arr[2].set_title('Output from 100Hz HP Filter', color='cyan')\n",
        "plt_arr[3].plot(bandpass_output, color='cyan')\n",
        "plt_arr[3].set_title('Output from 40-100Hz BP Filter', color='cyan')"
      ],
      "metadata": {
        "id": "UfGgdG6TKsYX"
      },
      "execution_count": null,
      "outputs": []
    },
    {
      "cell_type": "code",
      "source": [
        "# calculate the bandstop coeffs using window method\n",
        "bandstop_coef =\n",
        "plt.plot(bandstop_coef)\n",
        "plt.show()"
      ],
      "metadata": {
        "id": "E7d1QRQj1O4G"
      },
      "execution_count": null,
      "outputs": []
    },
    {
      "cell_type": "code",
      "source": [
        "bandstop_output = signal.convolve(sig_5hz_50hz_250hz, bandstop_coef, mode='same')\n",
        "plt.plot(bandstop_output)\n",
        "plt.show()"
      ],
      "metadata": {
        "id": "JGcKHZtu1UZ-"
      },
      "execution_count": null,
      "outputs": []
    }
  ]
}